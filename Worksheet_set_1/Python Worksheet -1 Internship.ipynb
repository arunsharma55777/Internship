{
 "cells": [
  {
   "cell_type": "code",
   "execution_count": 4,
   "id": "c41cf92a",
   "metadata": {},
   "outputs": [
    {
     "name": "stdout",
     "output_type": "stream",
     "text": [
      "Factorial of 7 is 5040\n"
     ]
    }
   ],
   "source": [
    "## Python Program to find the factorial of a number\n",
    "\n",
    "def factorial(n):\n",
    "     \n",
    "    return 1 if (n==1 or n==0) else (n * factorial(n - 1)) ;\n",
    " \n",
    "number = 7;\n",
    "print(\"Factorial of\",number,\"is\", factorial(number))             # we can give the desired value of number to find out factorial\n"
   ]
  },
  {
   "cell_type": "code",
   "execution_count": 12,
   "id": "cc03e945",
   "metadata": {},
   "outputs": [
    {
     "name": "stdout",
     "output_type": "stream",
     "text": [
      " Please Enter Any Number:19\n",
      "19 is a prime number\n"
     ]
    }
   ],
   "source": [
    "## To find weather the number is composite or prime:\n",
    "# Composite is a number which has more than 2 factors i.e 1 and the number itself whereas prime has only 2 factors 1 and itself\n",
    "\n",
    "n= int(input(\" Please Enter Any Number:\"))\n",
    "\n",
    "if(n ==0 or n == 1):\n",
    "    print(n,\"Number is neither prime nor composite\")\n",
    "    \n",
    "elif n>1 :\n",
    "    for i in range(2,n):\n",
    "        if(n%i == 0):\n",
    "            print(n, \"is a composite number\")\n",
    "            break\n",
    "    else:\n",
    "        print(n, \"is a prime number\")\n",
    "else :\n",
    "    print(\"Please enter the positive number\")"
   ]
  },
  {
   "cell_type": "code",
   "execution_count": 13,
   "id": "7688aa45",
   "metadata": {},
   "outputs": [
    {
     "name": "stdout",
     "output_type": "stream",
     "text": [
      " Please Enter Any Number:15\n",
      "15 is a Composite Number\n"
     ]
    }
   ],
   "source": [
    "x = int(input(\" Please Enter Any Number:\"))\n",
    "\n",
    "if(x ==0 or x == 1):\n",
    "    print(x,\"Number is neither prime nor composite\")\n",
    "    \n",
    "elif x > 1 :\n",
    "    for i in range(2,x):\n",
    "        if(x % i == 0):\n",
    "            print(x, \"is a Composite Number\")\n",
    "            break\n",
    "    else:\n",
    "        print(x, \"is a Prime Number\")\n",
    "else :\n",
    "    print(\"Please enter the Positive Number\")"
   ]
  },
  {
   "cell_type": "code",
   "execution_count": 14,
   "id": "b6c63785",
   "metadata": {},
   "outputs": [
    {
     "name": "stdout",
     "output_type": "stream",
     "text": [
      " Please Enter Any Number:1\n",
      "1 Number is neither prime nor composite\n"
     ]
    }
   ],
   "source": [
    "x = int(input(\" Please Enter Any Number:\"))\n",
    "\n",
    "if(x ==0 or x == 1):\n",
    "    print(x,\"Number is neither prime nor composite\")\n",
    "    \n",
    "elif x > 1 :\n",
    "    for i in range(2,x):\n",
    "        if(x % i == 0):\n",
    "            print(x, \"is a Composite Number\")\n",
    "            break\n",
    "    else:\n",
    "        print(x, \"is a Prime Number\")\n",
    "else :\n",
    "    print(\"Please enter the number positive number\")"
   ]
  },
  {
   "cell_type": "code",
   "execution_count": 17,
   "id": "826d063c",
   "metadata": {},
   "outputs": [
    {
     "name": "stdout",
     "output_type": "stream",
     "text": [
      " Please Enter Any Number:-5\n",
      "Please enter the positive number\n"
     ]
    }
   ],
   "source": [
    "x = int(input(\" Please Enter Any Number:\"))\n",
    "\n",
    "if(x ==0 or x == 1):\n",
    "    print(x,\"Number is neither prime nor composite\")\n",
    "    \n",
    "elif x > 1 :\n",
    "    for i in range(2,x):\n",
    "        if(x % i == 0):\n",
    "            print(x, \"is a Composite Number\")\n",
    "            break\n",
    "    else:\n",
    "        print(x, \"is a Prime Number\")\n",
    "else :\n",
    "    print(\"Please enter the positive number\")"
   ]
  },
  {
   "cell_type": "code",
   "execution_count": 5,
   "id": "a282d355",
   "metadata": {},
   "outputs": [
    {
     "name": "stdout",
     "output_type": "stream",
     "text": [
      "Please enter the sentence : was it a car, or cat, i saw\n",
      "was it a car, or cat, i saw\n",
      "'was it a car, or cat, i saw' is not a palindrome\n"
     ]
    }
   ],
   "source": [
    "# To find out that the given string is a palindrome or not :\n",
    "\n",
    "\n",
    "def palindrome_sentence(sentence):       # A string is a palindrome: if it is reversed it gives the same string.\n",
    "    string = \"\"\n",
    "    for char in sentence:\n",
    "        if char.isalnum():\n",
    "            string += char\n",
    "            \n",
    "    return string[::-1].casefold() == string.casefold()   # casefold is used to nullify the effect of Capital or small letter\n",
    "\n",
    "word = input(\"Please enter the sentence or word : \")\n",
    "print(word)\n",
    "\n",
    "if palindrome_sentence(word):\n",
    "    print(\"'{}' is a palindrome\".format(word))\n",
    "    \n",
    "else:\n",
    "    print(\"'{}' is not a palindrome\".format(word))"
   ]
  },
  {
   "cell_type": "code",
   "execution_count": 7,
   "id": "84d93b1d",
   "metadata": {},
   "outputs": [
    {
     "name": "stdout",
     "output_type": "stream",
     "text": [
      "Please enter the sentence or word : Was it a car, or a cat, i saw\n",
      "Was it a car, or a cat, i saw\n",
      "'Was it a car, or a cat, i saw' is a palindrome\n"
     ]
    }
   ],
   "source": [
    "def palindrome_sentence(sentence):\n",
    "    string = \"\"\n",
    "    for char in sentence:\n",
    "        if char.isalnum():\n",
    "            string += char\n",
    "            \n",
    "    return string[::-1].casefold() == string.casefold()\n",
    "\n",
    "word = input(\"Please enter the sentence or word : \")\n",
    "print(word)\n",
    "\n",
    "if palindrome_sentence(word):\n",
    "    print(\"'{}' is a palindrome\".format(word))\n",
    "    \n",
    "else:\n",
    "    print(\"'{}' is not a palindrome\".format(word))"
   ]
  },
  {
   "cell_type": "code",
   "execution_count": null,
   "id": "d7de7119",
   "metadata": {},
   "outputs": [],
   "source": []
  },
  {
   "cell_type": "code",
   "execution_count": 11,
   "id": "249763a7",
   "metadata": {},
   "outputs": [
    {
     "name": "stdout",
     "output_type": "stream",
     "text": [
      "Hypotenuse = 17.0\n",
      "Base = 15.0\n",
      "Perpendicular = 8.0\n",
      "Right Answer\n"
     ]
    }
   ],
   "source": [
    "## to find the third side of right-angled triangle from two given sides.\n",
    "\n",
    "def pythagoras(perpendicular, base, hypotenuse):\n",
    "        if perpendicular == str(\"x\"):\n",
    "            return (\"Perpendicular = \" + str(((hypotenuse**2) - (base**2))**0.5))\n",
    "        elif base == str(\"x\"):\n",
    "            return (\"Base = \" + str(((hypotenuse**2) - (perpendicular**2))**0.5))\n",
    "        elif hypotenuse == str(\"x\"):\n",
    "            return (\"Hypotenuse = \" + str(((perpendicular**2) + (base**2))**0.5))\n",
    "        else:\n",
    "            return \"Right Answer\"\n",
    "    \n",
    "print(pythagoras(8,15,'x'))\n",
    "\n",
    "print(pythagoras(8,'x',17))\n",
    "\n",
    "print(pythagoras('x',15,17))\n",
    "\n",
    "print(pythagoras(8,15,17))"
   ]
  },
  {
   "cell_type": "code",
   "execution_count": 20,
   "id": "e9d2639e",
   "metadata": {},
   "outputs": [
    {
     "name": "stdout",
     "output_type": "stream",
     "text": [
      "{'m': 2, 'a': 6, 'l': 3, 'y': 1, ' ': 4, 'i': 1, 's': 1, 'g': 3, 'o': 2, 'd': 1, 'n': 1, 'u': 1, 'e': 1}\n"
     ]
    }
   ],
   "source": [
    "## To print the frequency of each of the characters present in a given string:\n",
    "\n",
    "str_1 = \"malyalam is a good language\"\n",
    "freq = dict()\n",
    "for char in str_1:\n",
    "    if char in freq:\n",
    "        freq[char] = freq[char] + 1\n",
    "    else:\n",
    "        freq[char] = 1\n",
    "print(freq)"
   ]
  },
  {
   "cell_type": "code",
   "execution_count": null,
   "id": "8e86f6ad",
   "metadata": {},
   "outputs": [],
   "source": []
  }
 ],
 "metadata": {
  "kernelspec": {
   "display_name": "Python 3 (ipykernel)",
   "language": "python",
   "name": "python3"
  },
  "language_info": {
   "codemirror_mode": {
    "name": "ipython",
    "version": 3
   },
   "file_extension": ".py",
   "mimetype": "text/x-python",
   "name": "python",
   "nbconvert_exporter": "python",
   "pygments_lexer": "ipython3",
   "version": "3.9.7"
  }
 },
 "nbformat": 4,
 "nbformat_minor": 5
}
